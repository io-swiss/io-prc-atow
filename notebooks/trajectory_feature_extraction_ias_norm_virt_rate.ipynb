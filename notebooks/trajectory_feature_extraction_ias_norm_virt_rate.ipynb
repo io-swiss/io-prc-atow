{
 "cells": [
  {
   "cell_type": "code",
   "execution_count": null,
   "id": "cc91dda2-353d-4a5d-a054-2cfbfb90bbbc",
   "metadata": {},
   "outputs": [],
   "source": [
    "import dask.dataframe as dd\n",
    "import pandas as pd\n",
    "import glob\n",
    "import os\n",
    "from concurrent.futures import ThreadPoolExecutor\n",
    "from pathlib import Path"
   ]
  },
  {
   "cell_type": "markdown",
   "id": "c4af8ba3-1c87-4fc7-93df-ce962f64a63e",
   "metadata": {},
   "source": [
    "# Load Challenge Data"
   ]
  },
  {
   "cell_type": "code",
   "execution_count": null,
   "id": "58b4a2cd-e4e9-49ee-a57e-2bc789336fd3",
   "metadata": {},
   "outputs": [],
   "source": [
    "challenge_data = pd.read_csv(\"../data/challenge_set.csv\")\n",
    "submission_data = pd.read_csv(\"../data/final_submission_set.csv\")\n",
    "print(f\"{challenge_data.shape[0]=}, {submission_data.shape[0]=}\")\n",
    "challenge_data = pd.concat([challenge_data, submission_data], axis=0)\n",
    "challenge_data.reset_index(drop=True, inplace=True)\n",
    "print(f\"{challenge_data.shape[0]=}\")\n",
    "challenge_data['takeoff_time'] = pd.to_datetime(challenge_data['actual_offblock_time'], utc=True) + pd.to_timedelta(challenge_data['taxiout_time'], unit='m')\n",
    "challenge_data['arrival_time'] = pd.to_datetime(challenge_data['arrival_time'], utc=True)\n",
    "print(challenge_data.dtypes)\n",
    "print(f\"{challenge_data[['flight_id']].drop_duplicates().shape[0]=}\")\n",
    "challenge_data[['flight_id','date','actual_offblock_time','taxiout_time','takeoff_time','arrival_time','flight_duration','flown_distance']]"
   ]
  },
  {
   "cell_type": "code",
   "execution_count": null,
   "id": "6bd8f5bc-f2a8-48c5-b624-dc61d91e65e4",
   "metadata": {},
   "outputs": [],
   "source": [
    "challenge_data = challenge_data[['flight_id', \"takeoff_time\", \"arrival_time\"]]\n",
    "challenge_data"
   ]
  },
  {
   "cell_type": "markdown",
   "id": "47dd4c7a-4e59-46a4-a38e-3bdf1bd0effa",
   "metadata": {},
   "source": [
    "# Load _ALL_ `parquet` files"
   ]
  },
  {
   "cell_type": "code",
   "execution_count": null,
   "id": "4f9a9764-818a-43ed-90b1-bbb03cc6937f",
   "metadata": {},
   "outputs": [],
   "source": [
    "# Define input and output directories\n",
    "input_dir = Path(\"../data/\")\n",
    "output_dir = iPath(\"../data_cleaned/\")\n",
    "output_dir.mkdir(parents=True, exist_ok=True)\n",
    "\n",
    "# List all .parquet files in the input directory\n",
    "parquet_files = glob.glob(str(input_dir / \"*.parquet\"))\n",
    "\n",
    "# Function to process each file\n",
    "def process_file(file):\n",
    "    # Load file using pyarrow engine for faster reads\n",
    "    df = pd.read_parquet(file, engine='pyarrow')\n",
    "\n",
    "    # Sort and merge as before\n",
    "    df.sort_values([\"flight_id\", \"timestamp\"], inplace=True)\n",
    "    df = df.merge(challenge_data, on='flight_id', how='inner')\n",
    "\n",
    "    # Filter based on timestamp conditions\n",
    "    df = df[(df.timestamp >= df.takeoff_time) & \n",
    "            (df.timestamp <= df.takeoff_time + (df.arrival_time - df.takeoff_time) / 2)]\n",
    "\n",
    "    # Select relevant columns\n",
    "    df = df[['flight_id', 'timestamp', 'temperature', 'altitude', 'groundspeed', 'vertical_rate']]\n",
    "    \n",
    "    # Save the processed DataFrame to the output directory\n",
    "    output_file = output_dir / os.path.basename(file)\n",
    "    df.to_parquet(output_file, engine='pyarrow')\n",
    "    \n",
    "    print(f\"Converted {file=}\")"
   ]
  },
  {
   "cell_type": "code",
   "execution_count": null,
   "id": "2211fc65-0f11-40ea-a370-92e0d35fbfc4",
   "metadata": {},
   "outputs": [],
   "source": [
    "# Use ThreadPoolExecutor for parallel processing\n",
    "with ThreadPoolExecutor() as executor:\n",
    "    executor.map(process_file, parquet_files)"
   ]
  }
 ],
 "metadata": {
  "kernelspec": {
   "display_name": "Python 3 (ipykernel)",
   "language": "python",
   "name": "python3"
  },
  "language_info": {
   "codemirror_mode": {
    "name": "ipython",
    "version": 3
   },
   "file_extension": ".py",
   "mimetype": "text/x-python",
   "name": "python",
   "nbconvert_exporter": "python",
   "pygments_lexer": "ipython3",
   "version": "3.12.5"
  }
 },
 "nbformat": 4,
 "nbformat_minor": 5
}
