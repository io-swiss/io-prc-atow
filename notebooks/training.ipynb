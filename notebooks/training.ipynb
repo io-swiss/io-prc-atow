{
 "cells": [
  {
   "cell_type": "code",
   "execution_count": null,
   "id": "79dacc7d-c0cd-41a6-b383-28ef2f70f235",
   "metadata": {},
   "outputs": [],
   "source": [
    "!pip install scikit-learn xgboost  pandas catboost\n"
   ]
  },
  {
   "cell_type": "code",
   "execution_count": null,
   "id": "1b554986-1fdc-4099-8992-cbb7024b04b3",
   "metadata": {},
   "outputs": [],
   "source": [
    "from pathlib import Path\n",
    "import pandas as pd\n",
    "from sklearn.model_selection import train_test_split, GridSearchCV\n",
    "from sklearn.preprocessing import OneHotEncoder\n",
    "from sklearn.pipeline import Pipeline\n",
    "from sklearn.compose import ColumnTransformer\n",
    "from sklearn.metrics import mean_squared_error, make_scorer\n",
    "from sklearn.ensemble import RandomForestRegressor\n",
    "import xgboost as xgb\n",
    "from catboost import CatBoostRegressor\n",
    "import numpy as np\n",
    "import joblib"
   ]
  },
  {
   "cell_type": "code",
   "execution_count": null,
   "id": "df70994f-2afb-46a1-b520-2b343305790a",
   "metadata": {},
   "outputs": [],
   "source": [
    "# Load the challenge set (training data) and submission set\n",
    "challenge_data = pd.read_csv(\"challenge_set.csv\")\n",
    "submission_data = pd.read_csv(\"submission_set.csv\")"
   ]
  },
  {
   "cell_type": "code",
   "execution_count": null,
   "id": "38b3fcde-6fb6-49a6-a95b-7c4020498124",
   "metadata": {},
   "outputs": [],
   "source": [
    "# Define RMSE scorer\n",
    "rmse_scorer = make_scorer(lambda y_true, y_pred: np.sqrt(mean_squared_error(y_true, y_pred)), greater_is_better=False)\n",
    "\n",
    "# Select the features and target variable for training and validation\n",
    "features = ['flight_duration', 'taxiout_time', 'flown_distance', 'aircraft_type']\n",
    "target = 'tow'\n",
    "\n",
    "# Separate features and target from the challenge set\n",
    "X = challenge_data[features]\n",
    "y = challenge_data[target]\n",
    "\n",
    "# For the submission set, only features are used\n",
    "X_submission = submission_data[features]\n",
    "\n",
    "# Split the data (using only 10% for hyperparameter tuning)\n",
    "X_train_full, X_train_tune, y_train_full, y_train_tune = train_test_split(X, y, test_size=0.1, random_state=42)"
   ]
  },
  {
   "cell_type": "code",
   "execution_count": null,
   "id": "bdd28e8f-2ee2-4f43-953c-f673af61549b",
   "metadata": {},
   "outputs": [],
   "source": [
    "# Define preprocessing for categorical and numerical features\n",
    "categorical_features = ['aircraft_type']\n",
    "numerical_features = ['flight_duration', 'taxiout_time', 'flown_distance']\n",
    "\n",
    "# One-hot encode the categorical features\n",
    "preprocessor = ColumnTransformer(\n",
    "    transformers=[\n",
    "        ('num', 'passthrough', numerical_features),\n",
    "        ('cat', OneHotEncoder(), categorical_features)\n",
    "    ]\n",
    ")\n"
   ]
  },
  {
   "cell_type": "code",
   "execution_count": null,
   "id": "df2debe4-df01-48da-b6f7-a03a1300d251",
   "metadata": {},
   "outputs": [],
   "source": [
    "# Create model pipelines\n",
    "rf_pipeline = Pipeline(steps=[('preprocessor', preprocessor),\n",
    "                              ('model', RandomForestRegressor())])\n",
    "\n",
    "xgb_pipeline = Pipeline(steps=[('preprocessor', preprocessor),\n",
    "                               ('model', xgb.XGBRegressor(objective='reg:squarederror'))])\n",
    "\n",
    "catboost_pipeline = Pipeline(steps=[('preprocessor', preprocessor),\n",
    "                                    ('model', CatBoostRegressor(silent=True))])"
   ]
  },
  {
   "cell_type": "code",
   "execution_count": null,
   "id": "b847c3b9-2b0f-4cdf-86c9-13bc307520f5",
   "metadata": {},
   "outputs": [],
   "source": [
    "# Evaluate the best models on the full training set and predict on the submission set\n",
    "def evaluate_and_predict(model, X_train, y_train, X_submission, model_name):\n",
    "    model.fit(X_train, y_train)\n",
    "    predictions = model.predict(X_submission)\n",
    "    print(f\"Predictions for {model_name}:\", predictions)\n",
    "    return predictions\n",
    "\n",
    "# Evaluate and predict for each model\n",
    "rf_predictions = evaluate_and_predict(rf_pipeline, X_train_full, y_train_full, X_submission, 'RandomForest')\n",
    "xgb_predictions = evaluate_and_predict(xgb_pipeline, X_train_full, y_train_full, X_submission, 'XGBoost')\n",
    "catboost_predictions = evaluate_and_predict(catboost_pipeline, X_train_full, y_train_full, X_submission, 'CatBoost')"
   ]
  },
  {
   "cell_type": "code",
   "execution_count": null,
   "id": "1d08265e-ce10-4d45-8486-02affa97a297",
   "metadata": {},
   "outputs": [],
   "source": [
    "# Save predictions to CSV files\n",
    "\n",
    "\n",
    "submission_data[\"tow\"] = catboost_predictions\n",
    "submission_data[[\"flight_id\", \"tow\"]].to_csv(\"submission_catboost.csv\", index=None)\n",
    "submission_data[\"tow\"] = xgb_predictions\n",
    "submission_data[[\"flight_id\", \"tow\"]].to_csv(\"submission_xgb.csv\", index=None)\n",
    "submission_data[\"tow\"] = rf_predictions\n",
    "submission_data[[\"flight_id\", \"tow\"]].to_csv(\"submission_rf.csv\", index=None)"
   ]
  },
  {
   "cell_type": "code",
   "execution_count": null,
   "id": "b519591d-f617-44cc-a6d6-3ba9ce668fb2",
   "metadata": {},
   "outputs": [],
   "source": [
    "joblib.dump(best_rf, \"model_rf.pkl\")\n",
    "joblib.dump(best_xgb, \"model_xgb.pkl\")\n",
    "joblib.dump(best_catboost, \"model_catboost.pkl\")"
   ]
  }
 ],
 "metadata": {
  "kernelspec": {
   "display_name": "Python 3 (ipykernel)",
   "language": "python",
   "name": "python3"
  },
  "language_info": {
   "codemirror_mode": {
    "name": "ipython",
    "version": 3
   },
   "file_extension": ".py",
   "mimetype": "text/x-python",
   "name": "python",
   "nbconvert_exporter": "python",
   "pygments_lexer": "ipython3",
   "version": "3.10.6"
  }
 },
 "nbformat": 4,
 "nbformat_minor": 5
}
