{
 "cells": [
  {
   "cell_type": "code",
   "execution_count": null,
   "id": "1b554986-1fdc-4099-8992-cbb7024b04b3",
   "metadata": {},
   "outputs": [],
   "source": [
    "from pathlib import Path\n",
    "import pandas as pd\n",
    "from sklearn.model_selection import train_test_split, GridSearchCV\n",
    "from sklearn.preprocessing import OneHotEncoder\n",
    "from sklearn.pipeline import Pipeline\n",
    "from sklearn.compose import ColumnTransformer\n",
    "from sklearn.metrics import mean_squared_error, make_scorer, root_mean_squared_error\n",
    "from sklearn.ensemble import RandomForestRegressor\n",
    "import xgboost as xgb\n",
    "# from catboost import CatBoostRegressor\n",
    "import numpy as np"
   ]
  },
  {
   "cell_type": "markdown",
   "id": "ac368b00-68ec-4b2b-a709-803b4452082f",
   "metadata": {},
   "source": [
    "# Training Data Preperation"
   ]
  },
  {
   "cell_type": "code",
   "execution_count": null,
   "id": "6a1110fc-1b43-443c-8154-a9dc518e2a7f",
   "metadata": {},
   "outputs": [],
   "source": [
    "challenge_data = pd.read_csv(\"../data/challenge_set.csv\")\n",
    "submission_data = pd.read_csv(\"../data/final_submission_set.csv\")\n",
    "challenge_data_len = challenge_data.shape[0]\n",
    "challenge_data = pd.concat([challenge_data, submission_data], axis=0)\n",
    "challenge_data.reset_index(drop=True, inplace=True)\n",
    "print(f\"{challenge_data_len=}, {challenge_data.shape[0]=}\")"
   ]
  },
  {
   "cell_type": "code",
   "execution_count": null,
   "id": "df70994f-2afb-46a1-b520-2b343305790a",
   "metadata": {},
   "outputs": [],
   "source": [
    "# New features\n",
    "challenge_data['speed'] = challenge_data['flown_distance'] / challenge_data['flight_duration']\n",
    "challenge_data['month'] = challenge_data['date'].apply(lambda x: int(str(x)[5:7]))\n",
    "challenge_data['month1'] = challenge_data['date'].apply(lambda x: str(x)[5:7])\n",
    "challenge_data['tod'] = challenge_data['actual_offblock_time'].apply(lambda x: int(str(x)[11:13]))\n",
    "challenge_data['actual_offblock_time_dt'] = pd.to_datetime(challenge_data['actual_offblock_time'])\n",
    "challenge_data['day_of_week'] = challenge_data['actual_offblock_time_dt'].dt.day_name()\n",
    "\n",
    "challenge_data[['date', 'adep', 'ades', 'actual_offblock_time', 'arrival_time', 'aircraft_type', 'wtc', 'airline', 'flight_duration', 'taxiout_time', 'flown_distance', 'tow',\n",
    "                'speed', 'month', 'tod', 'day_of_week']].head()"
   ]
  },
  {
   "cell_type": "markdown",
   "id": "fb4435a5-09bb-434f-8350-d64e9f1cddf0",
   "metadata": {},
   "source": [
    "# Load additional features"
   ]
  },
  {
   "cell_type": "markdown",
   "id": "c2667f1e-a9cb-4b58-bbe4-5bfd45047a6f",
   "metadata": {},
   "source": [
    "## Add vertical_rate feature"
   ]
  },
  {
   "cell_type": "code",
   "execution_count": null,
   "id": "5382d8c5-7e24-4eda-9b0a-5e46be7fd383",
   "metadata": {},
   "outputs": [],
   "source": [
    "vertical_rate = pd.read_csv(\"../data/vertical_rate.csv\")\n",
    "challenge_data = challenge_data.merge(vertical_rate, on='flight_id', how='left')\n",
    "challenge_data.dtypes"
   ]
  },
  {
   "cell_type": "markdown",
   "id": "08559749-e23a-44cc-bece-a10d08d2f86d",
   "metadata": {},
   "source": [
    "## Add density_altitude feature"
   ]
  },
  {
   "cell_type": "code",
   "execution_count": null,
   "id": "5b16c8a6-6c35-4880-b496-c826378ff4c9",
   "metadata": {},
   "outputs": [],
   "source": [
    "density_altitude = pd.read_csv(\"../data/density_altitude.csv\")\n",
    "challenge_data = challenge_data.merge(density_altitude, on='flight_id', how='left')\n",
    "challenge_data.dtypes"
   ]
  },
  {
   "cell_type": "markdown",
   "id": "06f818c0-98ad-40d3-9786-d4c7d85be774",
   "metadata": {},
   "source": [
    "## Add additional features"
   ]
  },
  {
   "cell_type": "code",
   "execution_count": null,
   "id": "ba4c4c48-1759-4f6b-85c0-43acaf579740",
   "metadata": {},
   "outputs": [],
   "source": [
    "additional_features = pd.read_csv(\"../data/additional_features.csv\")\n",
    "challenge_data = challenge_data.merge(additional_features, on='flight_id', how='left')\n",
    "challenge_data.dtypes"
   ]
  },
  {
   "cell_type": "markdown",
   "id": "f5b4f9b9-5187-491a-afc0-51a62c6f0830",
   "metadata": {},
   "source": [
    "## Airspeed and normalized vertical rate"
   ]
  },
  {
   "cell_type": "code",
   "execution_count": null,
   "id": "27d06206-4189-4526-adcb-9e27c5558006",
   "metadata": {},
   "outputs": [],
   "source": [
    "ias_norm_virt_rate = pd.read_csv(\"../data/ias_norm_virt_rate.csv\")\n",
    "challenge_data = challenge_data.merge(ias_norm_virt_rate, on='flight_id', how='left')\n",
    "challenge_data.columns"
   ]
  },
  {
   "cell_type": "code",
   "execution_count": null,
   "id": "e9d1eb0d-0a55-45fa-b4ef-b543e505cd8f",
   "metadata": {},
   "outputs": [],
   "source": [
    "challenge_data.to_csv(\"../data/combined_training_data.csv\", index=False)\n",
    "challenge_data.describe()"
   ]
  },
  {
   "cell_type": "markdown",
   "id": "85eeb9dd-5361-4124-999e-2a1a43bcebc7",
   "metadata": {},
   "source": [
    "# Train"
   ]
  },
  {
   "cell_type": "code",
   "execution_count": null,
   "id": "bdd28e8f-2ee2-4f43-953c-f673af61549b",
   "metadata": {},
   "outputs": [],
   "source": [
    "# Define preprocessing for categorical and numerical features\n",
    "categorical_features = ['aircraft_type', 'adep', 'ades', 'wtc', 'month1', 'day_of_week', 'airline']\n",
    "numerical_features = [\n",
    "    'flight_duration', 'taxiout_time', 'flown_distance', 'speed', 'month', 'tod',\n",
    "    'density_altitude_min', 'density_altitude_max', 'density_altitude_mean',\n",
    "    'vertical_rate_min_x', 'vertical_rate_max_x', 'vertical_rate_mean_x',\n",
    "    'altitude_min', 'altitude_max', 'altitude_mean',\n",
    "    'groundspeed_min', 'groundspeed_max', 'groundspeed_mean',\n",
    "    'track_min', 'track_max', 'track_mean',\n",
    "    'vertical_rate_min_y', 'vertical_rate_max_y', 'vertical_rate_mean_y',\n",
    "    # 'track_unwrapped_min', 'track_unwrapped_max', 'track_unwrapped_mean',\n",
    "    'u_component_of_wind_min', 'u_component_of_wind_max', 'u_component_of_wind_mean',\n",
    "    'v_component_of_wind_min', 'v_component_of_wind_max', 'v_component_of_wind_mean',\n",
    "    'temperature_min', 'temperature_max', 'temperature_mean',\n",
    "    'specific_humidity_min', 'specific_humidity_max', 'specific_humidity_mean',\n",
    "    'ias_min', 'ias_max', 'ias_mean',\n",
    "    'norm_vertical_rate_min', 'norm_vertical_rate_max', 'norm_vertical_rate_mean',\n",
    "]\n",
    "\n",
    "categories = [\n",
    "    challenge_data['aircraft_type'].unique(),\n",
    "    challenge_data['adep'].unique(),\n",
    "    challenge_data['ades'].unique(),\n",
    "    challenge_data['wtc'].unique(),\n",
    "    challenge_data['month1'].unique(),\n",
    "    challenge_data['day_of_week'].unique(),\n",
    "    challenge_data['airline'].unique()\n",
    "]\n",
    "\n",
    "# One-hot encode the categorical features\n",
    "preprocessor = ColumnTransformer(\n",
    "    transformers=[\n",
    "        # ('num', PolynomialFeatures(degree=2, include_bias=False), numerical_features),\n",
    "        ('num', 'passthrough', numerical_features),\n",
    "        ('cat', OneHotEncoder(categories=categories), categorical_features)\n",
    "    ]\n",
    ")"
   ]
  },
  {
   "cell_type": "code",
   "execution_count": null,
   "id": "b06e5efc-76e4-44d2-88f7-dbc8ae3507eb",
   "metadata": {},
   "outputs": [],
   "source": [
    "# Select the features and target variable for training and validation\n",
    "features = [*numerical_features, *categorical_features]\n",
    "target = 'tow'\n",
    "\n",
    "# Separate features and target from the challenge set\n",
    "X = challenge_data[features][:challenge_data_len]\n",
    "y = challenge_data[target][:challenge_data_len]\n",
    "X_sub = challenge_data_features[challenge_data_len:]\n",
    "\n",
    "print(f\"{X.shape=}\")"
   ]
  },
  {
   "cell_type": "code",
   "execution_count": null,
   "id": "b847c3b9-2b0f-4cdf-86c9-13bc307520f5",
   "metadata": {},
   "outputs": [],
   "source": [
    "# Evaluate the best models on the full training set and predict on the submission set\n",
    "def train(i, model, model_name):\n",
    "    pipeline = Pipeline(steps=[('preprocessor', preprocessor), ('model', model)])\n",
    "    # pipeline = Pipeline(steps=[('model', model)])\n",
    "    \n",
    "    # Split the data (using only 10% for hyperparameter tuning)\n",
    "    X_train, X_test, y_train, y_test = train_test_split(X, y, test_size=0.1, random_state=42 + i)\n",
    "    # X_train, X_test, y_train, y_test = train_test_split(X, y, test_size=0.1, random_state=50 + i)\n",
    "    \n",
    "    print(f\"{i}. Training {model_name}...\")\n",
    "\n",
    "    pipeline.fit(X_train, y_train)\n",
    "\n",
    "    y_pred = pipeline.predict(X_train)\n",
    "    rmse_train = root_mean_squared_error(y_train, y_pred)\n",
    "\n",
    "    y_pred = pipeline.predict(X_test)\n",
    "    rmse_test = root_mean_squared_error(y_test, y_pred)\n",
    "\n",
    "    print(f\"{i}. Trained {model_name} RMSE (train): {rmse_train} RMSE (test): {rmse_test} RMSE diff {rmse_test - rmse_train}\")\n",
    "\n",
    "    return pipeline, rmse_test\n",
    "    \n",
    "results = []\n",
    "splits = 1\n",
    "selected_params_xgboost = {\n",
    "    'objective':'reg:squarederror',\n",
    "    'n_estimators': 2000,\n",
    "    'learning_rate': 0.1,\n",
    "    'max_depth': 6,\n",
    "    'min_child_weight': 1,\n",
    "    'gamma': 0.1,\n",
    "    'subsample': 0.8,\n",
    "    'colsample_bytree': 1.0,\n",
    "    'reg_alpha': 0.01,\n",
    "    'reg_lambda': 1.5,\n",
    "    'scale_pos_weight': 1.5,\n",
    "    'n_jobs': -1,\n",
    "    'eval_metric': 'rmse'\n",
    "}\n",
    "catboost_params = {\n",
    "    'depth': 10,\n",
    "    'od_wait': 200,\n",
    "    'l2_leaf_reg': 3,\n",
    "    'iterations': 50000, # 200000,\n",
    "    'model_size_reg': 0.7,\n",
    "    'learning_rate': 0.05,\n",
    "    'random_seed': 42,\n",
    "    #\"silent\": True,\n",
    "    \"verbose\": False\n",
    "}\n",
    "\n",
    "for i in range(splits):\n",
    "    #model = RandomForestRegressor(n_estimators = 1000,n_jobs = -1,random_state =1)\n",
    "    #pipeline, rmse = train(i, model, 'RandomForest')\n",
    "    #results.append(('RandomForest', i, rmse, pipeline))\n",
    "\n",
    "    #model = xgb.XGBRegressor(**selected_params)\n",
    "    #pipeline, rmse = train(i, model, 'XGBoost')\n",
    "    #results.append(('XGBoost', i, rmse, pipeline))\n",
    "\n",
    "    model = CatBoostRegressor(**catboost_params)\n",
    "    pipeline, rmse = train(i, model, 'CatBoost')\n",
    "    results.append(('CatBoost', i, rmse, pipeline))\n",
    "\n",
    "best_models = {}\n",
    "#for model_name in ['RandomForest', 'XGBoost', 'CatBoost']:\n",
    "for model_name in ['CatBoost']:\n",
    "    model_results = [result for result in results if result[0] == model_name]\n",
    "    best_result = min(model_results, key=lambda x: x[2])\n",
    "    best_models[model_name] = best_result\n",
    "\n",
    "# Find the best model overall\n",
    "best_model_name = min(best_models, key=lambda name: best_models[name][2])\n",
    "best_rmse = best_models[best_model_name][2]\n",
    "best_split = best_models[best_model_name][1]\n",
    "best_model = best_models[best_model_name][3]\n",
    "\n",
    "print(f\"{best_model_name=} {best_rmse=} {best_split=}\")"
   ]
  },
  {
   "cell_type": "code",
   "execution_count": null,
   "id": "6d1c66e8-a444-4ecd-b8a5-2cb0cdd1d500",
   "metadata": {},
   "outputs": [],
   "source": [
    "def predict(model):\n",
    "    predictions = model.predict(X_sub)\n",
    "    print(f\"Predictions for {model_name}:\", predictions)\n",
    "    return predictions\n",
    "\n",
    "submission_data['tow'] = predict(best_model)\n",
    "submission_data[['flight_id','tow']].to_csv(\"../submissions/team_exuberant_scooter_v7_5c26054c-2acb-4e7b-8bfa-61a0fe40cb6a.csv\", index=None)"
   ]
  }
 ],
 "metadata": {
  "kernelspec": {
   "display_name": "Python 3 (ipykernel)",
   "language": "python",
   "name": "python3"
  },
  "language_info": {
   "codemirror_mode": {
    "name": "ipython",
    "version": 3
   },
   "file_extension": ".py",
   "mimetype": "text/x-python",
   "name": "python",
   "nbconvert_exporter": "python",
   "pygments_lexer": "ipython3",
   "version": "3.12.5"
  }
 },
 "nbformat": 4,
 "nbformat_minor": 5
}
