{
 "cells": [
  {
   "cell_type": "code",
   "execution_count": 1,
   "id": "e1421280-5e88-45c7-b958-9016333377b6",
   "metadata": {},
   "outputs": [],
   "source": [
    "from pathlib import Path\n",
    "import pandas as pd\n",
    "from sklearn.model_selection import train_test_split, GridSearchCV\n",
    "from sklearn.preprocessing import OneHotEncoder\n",
    "from sklearn.pipeline import Pipeline\n",
    "from sklearn.compose import ColumnTransformer\n",
    "from sklearn.metrics import mean_squared_error, make_scorer\n",
    "from sklearn.ensemble import RandomForestRegressor\n",
    "import xgboost as xgb\n",
    "from catboost import CatBoostRegressor\n",
    "import numpy as np\n",
    "import joblib"
   ]
  },
  {
   "cell_type": "code",
   "execution_count": 7,
   "id": "fa514142-a373-4180-9e1f-a0f9e1d4ab9d",
   "metadata": {},
   "outputs": [],
   "source": [
    "submission_data = pd.read_csv(\"submission_set.csv\")\n",
    "features = ['flight_duration', 'taxiout_time', 'flown_distance', 'aircraft_type']\n",
    "target = 'tow'\n",
    "# For the submission set, only features are used\n",
    "X_submission = submission_data[features]"
   ]
  },
  {
   "cell_type": "code",
   "execution_count": 3,
   "id": "df89c5ed-4098-46a2-883b-793f919aef99",
   "metadata": {},
   "outputs": [],
   "source": [
    "model_rf = joblib.load(\"model_rf.pkl\")\n",
    "model_xgb = joblib.load(\"model_xgb.pkl\")\n",
    "model_catboost = joblib.load(\"model_catboost.pkl\")"
   ]
  },
  {
   "cell_type": "code",
   "execution_count": 6,
   "id": "10ab623f-ffe8-4bbe-91ed-494b92e3d1ae",
   "metadata": {},
   "outputs": [],
   "source": [
    "submission_data[\"tow\"] = model_catboost.predict(X_submission)\n",
    "submission_data[[\"flight_id\", \"tow\"]].to_csv(\"submission_catboost.csv\", index=None)\n",
    "submission_data[\"tow\"] = model_xgb.predict(X_submission)\n",
    "submission_data[[\"flight_id\", \"tow\"]].to_csv(\"submission_xgb.csv\", index=None)\n",
    "submission_data[\"tow\"] = model_rf.predict(X_submission)\n",
    "submission_data[[\"flight_id\", \"tow\"]].to_csv(\"submission_rf.csv\", index=None)"
   ]
  },
  {
   "cell_type": "code",
   "execution_count": null,
   "id": "79df1677-db9b-497d-99d7-593ad7f36235",
   "metadata": {},
   "outputs": [],
   "source": []
  },
  {
   "cell_type": "code",
   "execution_count": null,
   "id": "a1d12991-1530-4e7b-8f33-a7359c31ae43",
   "metadata": {},
   "outputs": [],
   "source": []
  }
 ],
 "metadata": {
  "kernelspec": {
   "display_name": "Python 3 (ipykernel)",
   "language": "python",
   "name": "python3"
  },
  "language_info": {
   "codemirror_mode": {
    "name": "ipython",
    "version": 3
   },
   "file_extension": ".py",
   "mimetype": "text/x-python",
   "name": "python",
   "nbconvert_exporter": "python",
   "pygments_lexer": "ipython3",
   "version": "3.10.6"
  }
 },
 "nbformat": 4,
 "nbformat_minor": 5
}
